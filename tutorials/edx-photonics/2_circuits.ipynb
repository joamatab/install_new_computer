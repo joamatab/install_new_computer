{
 "cells": [
  {
   "cell_type": "markdown",
   "metadata": {},
   "source": [
    "# Thermo-optic switch\n",
    "\n",
    " Thermo-optic switch based on a Mach Zehnder Interferometer\n",
    "Consider a thermo-optic switch based on a balanced MZI. The switch consists of\n",
    "two Y branches connected with identical waveguides. One of the waveguides is\n",
    "covered with a metal heater, which is attached to two electrical probe pads."
   ]
  },
  {
   "cell_type": "code",
   "execution_count": null,
   "metadata": {},
   "outputs": [],
   "source": [
    "\n",
    "import numpy as np\n",
    "\n",
    "L = 100\n",
    "w = 1.55\n",
    "dndt = 2e-4\n",
    "\n",
    "\n",
    "# B*L = np.pi\n",
    "\n",
    "B = np.pi/L\n",
    "\n",
    "# B = 2*pi(n+dndt*dt)/w\n",
    "# the first part is common for both arms, dB = 2*pi*dndt*dt/w\n",
    "dt = w*dB/(2*np.pi*dndt)\n",
    "dt = 38.75\n"
   ]
  }
 ],
 "metadata": {},
 "nbformat": 4,
 "nbformat_minor": 2
}
